{
 "nbformat": 4,
 "nbformat_minor": 0,
 "metadata": {
  "colab": {
   "provenance": [],
   "authorship_tag": "ABX9TyPQq7GRuDGo76lcwKzplLP3"
  },
  "kernelspec": {
   "name": "python3",
   "display_name": "Python 3"
  },
  "language_info": {
   "name": "python"
  }
 },
 "cells": [
  {
   "cell_type": "code",
   "execution_count": 1,
   "metadata": {
    "colab": {
     "base_uri": "https://localhost:8080/",
     "height": 822
    },
    "id": "wJra-2rJjPE1",
    "executionInfo": {
     "status": "ok",
     "timestamp": 1706674514161,
     "user_tz": -540,
     "elapsed": 18766,
     "user": {
      "displayName": "Min Kim",
      "userId": "05474900843766960344"
     }
    },
    "outputId": "bbca17d9-0e70-43fd-d50a-032f9e166d5d"
   },
   "outputs": [
    {
     "ename": "NameError",
     "evalue": "name 'os' is not defined",
     "output_type": "error",
     "traceback": [
      "\u001B[1;31m---------------------------------------------------------------------------\u001B[0m",
      "\u001B[1;31mNameError\u001B[0m                                 Traceback (most recent call last)",
      "Cell \u001B[1;32mIn[1], line 11\u001B[0m\n\u001B[0;32m      8\u001B[0m \u001B[38;5;28;01mfrom\u001B[39;00m \u001B[38;5;21;01mkaggle\u001B[39;00m\u001B[38;5;21;01m.\u001B[39;00m\u001B[38;5;21;01mapi\u001B[39;00m\u001B[38;5;21;01m.\u001B[39;00m\u001B[38;5;21;01mkaggle_api_extended\u001B[39;00m \u001B[38;5;28;01mimport\u001B[39;00m KaggleApi\n\u001B[0;32m     10\u001B[0m \u001B[38;5;66;03m# 닉네임, 토큰 설정\u001B[39;00m\n\u001B[1;32m---> 11\u001B[0m \u001B[43mos\u001B[49m\u001B[38;5;241m.\u001B[39menviron[\u001B[38;5;124m\"\u001B[39m\u001B[38;5;124mKAGGLE_USERNAME\u001B[39m\u001B[38;5;124m\"\u001B[39m] \u001B[38;5;241m=\u001B[39m \u001B[38;5;124m'\u001B[39m\u001B[38;5;124mmkim80\u001B[39m\u001B[38;5;124m'\u001B[39m\n\u001B[0;32m     12\u001B[0m os\u001B[38;5;241m.\u001B[39menviron[\u001B[38;5;124m\"\u001B[39m\u001B[38;5;124mKAGGLE_KEY\u001B[39m\u001B[38;5;124m\"\u001B[39m] \u001B[38;5;241m=\u001B[39m \u001B[38;5;124m\"\u001B[39m\u001B[38;5;124m3cab95f0e83be84d5932ff809d4241fb\u001B[39m\u001B[38;5;124m\"\u001B[39m\n\u001B[0;32m     14\u001B[0m api \u001B[38;5;241m=\u001B[39m KaggleApi()\n",
      "\u001B[1;31mNameError\u001B[0m: name 'os' is not defined"
     ]
    }
   ],
   "source": [
    "\"\"\"\n",
    "os 임포트\n",
    "파이썬 내부에서 os에 접근해서 환경변수를 세팅합니다.\n",
    "파이썬에서 실행했을때 즉효성을 가집니다.\n",
    "\"\"\"\n",
    "\n",
    "import kaggle as kaggle\n",
    "from kaggle.api.kaggle_api_extended import KaggleApi\n",
    "\n",
    "# 닉네임, 토큰 설정\n",
    "os.environ[\"KAGGLE_USERNAME\"] = 'mkim80'\n",
    "os.environ[\"KAGGLE_KEY\"] = \"3cab95f0e83be84d5932ff809d4241fb\"\n",
    "\n",
    "api = KaggleApi()\n",
    "api.authenticate()\n",
    "\n",
    "# 캐글 리스트\n",
    "# print(api.competitions_list())"
   ]
  },
  {
   "cell_type": "code",
   "execution_count": null,
   "outputs": [],
   "source": [
    "import shutil\n",
    "import os\n",
    "import zipfile\n",
    "\n",
    "\n",
    "# 캐글 : 원하는 데이터셋을 선택하고 \"Copy API command\"를 클릭하여 API 주소를 복사합니다.\n",
    "kaggle_data = \"andrewmvd/heart-failure-clinical-data\"\n",
    "kaggle_data_nm = \"heart-failure-clinical-data.zip\"\n",
    "\n",
    "# data_path = \"/content/\"\n",
    "destination_path = \"/content/drive/MyDrive/10. 개인/02. Study/300. AI/303. 강의(패스트캠퍼스)/퀴즈처럼 풀면서 배우는 머신러닝/문제풀기/문제1. 심부전증/data/\"\n",
    "\n",
    "# 여러 개의 중첩된 폴더 생성\n",
    "os.makedirs(destination_path, exist_ok=True)\n",
    "\n",
    "# 데이터셋 다운로드\n",
    "kaggle.api.dataset_download_files(dataset=kaggle_data, path=destination_path)\n",
    "\n",
    "# 파일 복사\n",
    "# shutil.copyfile(data_path+source, destination_path+source)\n",
    "\n",
    "# 압축풀기\n",
    "with zipfile.ZipFile(destination_path+kaggle_data_nm, 'r') as zipref:\n",
    "    zipref.extractall(destination_path)\n",
    "\n",
    "# # 파일 지우기\n",
    "# os.remove(data_path+source)\n",
    "os.remove(destination_path+kaggle_data_nm)"
   ],
   "metadata": {
    "collapsed": false
   }
  }
 ]
}
