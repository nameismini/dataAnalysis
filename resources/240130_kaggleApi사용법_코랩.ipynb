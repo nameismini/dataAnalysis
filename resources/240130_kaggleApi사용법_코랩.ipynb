{
 "nbformat": 4,
 "nbformat_minor": 0,
 "metadata": {
  "colab": {
   "provenance": [],
   "authorship_tag": "ABX9TyPQq7GRuDGo76lcwKzplLP3"
  },
  "kernelspec": {
   "name": "python3",
   "display_name": "Python 3"
  },
  "language_info": {
   "name": "python"
  }
 },
 "cells": [
  {
   "cell_type": "code",
   "execution_count": null,
   "metadata": {
    "colab": {
     "base_uri": "https://localhost:8080/",
     "height": 822
    },
    "id": "wJra-2rJjPE1",
    "executionInfo": {
     "status": "ok",
     "timestamp": 1706674514161,
     "user_tz": -540,
     "elapsed": 18766,
     "user": {
      "displayName": "Min Kim",
      "userId": "05474900843766960344"
     }
    },
    "outputId": "bbca17d9-0e70-43fd-d50a-032f9e166d5d",
    "pycharm": {
     "is_executing": true
    }
   },
   "outputs": [],
   "source": [
    "# 캐글 싸이트에서 API를 다운\n",
    "!pip install kaggle\n",
    "from google.colab import files\n",
    "files.upload()\n",
    "\n",
    "\n",
    "\n",
    "# 파일이 잘 업로드 되었는지 확인\n",
    "!ls -1ha kaggle.json\n",
    "\n",
    "# Kaggle API 를 사용하기 위해서는 json 파일을 ~/.kaggle로 이동 시키는 작업\n",
    "!mkdir -p ~/.kaggle\n",
    "!cp kaggle.json ~/.kaggle/\n",
    "# Permission Warning이 발생하지 않도록 해줍니다.\n",
    "!chmod 600 ~/.kaggle/kaggle.json\n",
    "\n",
    "# ! 뒤에 내가 참가했던 kaggle 대회의 API를 복사하여 넣는다\n",
    "! kaggle kernels pull mkim80/first-analysis-using-randomforestclassifier\n",
    "\n",
    "# 대회 리스트 확인\n",
    "!kaggle competitions list\n",
    "\n",
    "# 받은 리스트 확인\n",
    "! ls\n",
    "\n",
    "# 캐글 데이터 다운로드\n",
    "#403에러시 해당 competitions > rule 로 가서 I Understand and Accept 버튼을 누른다\n",
    "!kaggle competitions download -c house-prices-advanced-regression-techniques\n",
    "\n",
    "# 압축해제\n",
    "!unzip -qq house-prices-advanced-regression-techniques.zip"
   ]
  },
  {
   "cell_type": "code",
   "execution_count": null,
   "outputs": [],
   "source": [],
   "metadata": {
    "collapsed": false
   }
  }
 ]
}
